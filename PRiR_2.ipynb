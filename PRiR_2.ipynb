{
  "nbformat": 4,
  "nbformat_minor": 0,
  "metadata": {
    "colab": {
      "provenance": [],
      "gpuType": "T4"
    },
    "kernelspec": {
      "name": "python3",
      "display_name": "Python 3"
    },
    "language_info": {
      "name": "python"
    },
    "accelerator": "GPU"
  },
  "cells": [
    {
      "cell_type": "markdown",
      "source": [
        "**Zadanie 1**"
      ],
      "metadata": {
        "id": "63l7rqEjn4hD"
      }
    },
    {
      "cell_type": "code",
      "source": [
        "!nvidia-smi"
      ],
      "metadata": {
        "colab": {
          "base_uri": "https://localhost:8080/"
        },
        "id": "LDKQ9vehrzp0",
        "outputId": "331988dd-440f-44b3-c597-b85a8646ee72"
      },
      "execution_count": 9,
      "outputs": [
        {
          "output_type": "stream",
          "name": "stdout",
          "text": [
            "Wed Oct 22 11:30:54 2025       \n",
            "+-----------------------------------------------------------------------------------------+\n",
            "| NVIDIA-SMI 550.54.15              Driver Version: 550.54.15      CUDA Version: 12.4     |\n",
            "|-----------------------------------------+------------------------+----------------------+\n",
            "| GPU  Name                 Persistence-M | Bus-Id          Disp.A | Volatile Uncorr. ECC |\n",
            "| Fan  Temp   Perf          Pwr:Usage/Cap |           Memory-Usage | GPU-Util  Compute M. |\n",
            "|                                         |                        |               MIG M. |\n",
            "|=========================================+========================+======================|\n",
            "|   0  Tesla T4                       Off |   00000000:00:04.0 Off |                    0 |\n",
            "| N/A   69C    P0             32W /   70W |     130MiB /  15360MiB |      0%      Default |\n",
            "|                                         |                        |                  N/A |\n",
            "+-----------------------------------------+------------------------+----------------------+\n",
            "                                                                                         \n",
            "+-----------------------------------------------------------------------------------------+\n",
            "| Processes:                                                                              |\n",
            "|  GPU   GI   CI        PID   Type   Process name                              GPU Memory |\n",
            "|        ID   ID                                                               Usage      |\n",
            "|=========================================================================================|\n",
            "+-----------------------------------------------------------------------------------------+\n"
          ]
        }
      ]
    },
    {
      "cell_type": "code",
      "source": [
        "import numpy as np\n",
        "import time\n",
        "N = 1024\n",
        "A_cpu = np.random.rand(N, N).astype(np.float32)\n",
        "B_cpu = np.random.rand(N, N).astype(np.float32)\n",
        "start = time.time()\n",
        "C_cpu = np.matmul(A_cpu , B_cpu)\n",
        "end = time.time()\n",
        "print(f\"Mnożenie macierzy na CPU trwało: {end - start :.5f} sekund.\")"
      ],
      "metadata": {
        "colab": {
          "base_uri": "https://localhost:8080/"
        },
        "id": "6frk0R1Hn8cY",
        "outputId": "9a01ec64-f108-4817-c8d1-5c175562fa2c"
      },
      "execution_count": 7,
      "outputs": [
        {
          "output_type": "stream",
          "name": "stdout",
          "text": [
            "Mnożenie macierzy na CPU trwało: 0.01697 sekund.\n"
          ]
        }
      ]
    },
    {
      "cell_type": "code",
      "source": [
        "import cupy as cp\n",
        "import numpy as np\n",
        "import time\n",
        "N = 1024\n",
        "A_cpu = np.random.rand(N, N).astype(np.float32)\n",
        "B_cpu = np.random.rand(N, N).astype(np.float32)\n",
        "A_gpu = cp.array(A_cpu)\n",
        "B_gpu = cp.array(B_cpu)\n",
        "start = time.time()\n",
        "C_gpu = cp.matmul(A_gpu , B_gpu)\n",
        "cp.cuda.Stream.null.synchronize()  # Synchronizacja z GPU\n",
        "end = time.time()\n",
        "print(f\"Mnożenie macierzy na GPU trwało: {end - start :.5f} sekund.\")"
      ],
      "metadata": {
        "colab": {
          "base_uri": "https://localhost:8080/"
        },
        "id": "Tpbbr9Ren-By",
        "outputId": "8af6e161-1806-460e-d6f6-e675303e69c0"
      },
      "execution_count": 8,
      "outputs": [
        {
          "output_type": "stream",
          "name": "stdout",
          "text": [
            "Mnożenie macierzy na GPU trwało: 0.00129 sekund.\n"
          ]
        }
      ]
    },
    {
      "cell_type": "markdown",
      "source": [
        "Zadanie **2**"
      ],
      "metadata": {
        "id": "23VURBzBpPqW"
      }
    },
    {
      "cell_type": "code",
      "source": [
        "import locale\n",
        "locale.getpreferredencoding = lambda: \"UTF-8\"\n",
        "!pip install pycuda\n",
        "\n",
        "import pycuda.driver as cuda\n",
        "import pycuda.autoinit\n",
        "from pycuda.compiler import SourceModule\n",
        "\n",
        "import numpy as np\n",
        "import time"
      ],
      "metadata": {
        "id": "MKEXG1wQpRnn",
        "colab": {
          "base_uri": "https://localhost:8080/"
        },
        "outputId": "9b5c9763-ad17-4c8b-837f-1ef8fa01545a"
      },
      "execution_count": 10,
      "outputs": [
        {
          "output_type": "stream",
          "name": "stdout",
          "text": [
            "Collecting pycuda\n",
            "  Using cached pycuda-2025.1.2.tar.gz (1.7 MB)\n",
            "  Installing build dependencies ... \u001b[?25l\u001b[?25hdone\n",
            "  Getting requirements to build wheel ... \u001b[?25l\u001b[?25hdone\n",
            "  Preparing metadata (pyproject.toml) ... \u001b[?25l\u001b[?25hdone\n",
            "Collecting pytools>=2011.2 (from pycuda)\n",
            "  Downloading pytools-2025.2.5-py3-none-any.whl.metadata (2.9 kB)\n",
            "Requirement already satisfied: platformdirs>=2.2.0 in /usr/local/lib/python3.12/dist-packages (from pycuda) (4.5.0)\n",
            "Requirement already satisfied: mako in /usr/local/lib/python3.12/dist-packages (from pycuda) (1.3.10)\n",
            "Collecting siphash24>=1.6 (from pytools>=2011.2->pycuda)\n",
            "  Downloading siphash24-1.8-cp312-cp312-manylinux2014_x86_64.manylinux_2_17_x86_64.manylinux_2_28_x86_64.whl.metadata (3.2 kB)\n",
            "Requirement already satisfied: typing-extensions>=4.5 in /usr/local/lib/python3.12/dist-packages (from pytools>=2011.2->pycuda) (4.15.0)\n",
            "Requirement already satisfied: MarkupSafe>=0.9.2 in /usr/local/lib/python3.12/dist-packages (from mako->pycuda) (3.0.3)\n",
            "Downloading pytools-2025.2.5-py3-none-any.whl (98 kB)\n",
            "\u001b[2K   \u001b[90m━━━━━━━━━━━━━━━━━━━━━━━━━━━━━━━━━━━━━━━━\u001b[0m \u001b[32m98.8/98.8 kB\u001b[0m \u001b[31m9.6 MB/s\u001b[0m eta \u001b[36m0:00:00\u001b[0m\n",
            "\u001b[?25hDownloading siphash24-1.8-cp312-cp312-manylinux2014_x86_64.manylinux_2_17_x86_64.manylinux_2_28_x86_64.whl (103 kB)\n",
            "\u001b[2K   \u001b[90m━━━━━━━━━━━━━━━━━━━━━━━━━━━━━━━━━━━━━━━━\u001b[0m \u001b[32m103.2/103.2 kB\u001b[0m \u001b[31m11.3 MB/s\u001b[0m eta \u001b[36m0:00:00\u001b[0m\n",
            "\u001b[?25hBuilding wheels for collected packages: pycuda\n",
            "  Building wheel for pycuda (pyproject.toml) ... \u001b[?25l\u001b[?25hdone\n",
            "  Created wheel for pycuda: filename=pycuda-2025.1.2-cp312-cp312-linux_x86_64.whl size=659050 sha256=c00badd8a6c25b494f7f0205f9bbe7aa748e6ae1b23899adf0fe90c621fe804a\n",
            "  Stored in directory: /root/.cache/pip/wheels/d5/36/f3/ac5f09d768cad3fa15d5a3449bdfe65c3de58e69d036c73228\n",
            "Successfully built pycuda\n",
            "Installing collected packages: siphash24, pytools, pycuda\n",
            "Successfully installed pycuda-2025.1.2 pytools-2025.2.5 siphash24-1.8\n"
          ]
        }
      ]
    },
    {
      "cell_type": "code",
      "source": [
        "kernel_code = \"\"\"\n",
        "__global__ void matrixMul(float *A, float *B, float *C, int N) {\n",
        "    int row = blockIdx.y * blockDim.y + threadIdx.y;\n",
        "    int col = blockIdx.x * blockDim.x + threadIdx.x;\n",
        "    float sum = 0.0;\n",
        "    if(row < N && col < N) {\n",
        "        for (int k = 0; k < N; k++) {\n",
        "            sum += A[row * N + k] * B[k * N + col];\n",
        "        }\n",
        "        C[row * N + col] = sum;\n",
        "    }\n",
        "}\n",
        "\"\"\""
      ],
      "metadata": {
        "id": "dAfLnMiHpTgF"
      },
      "execution_count": 19,
      "outputs": []
    },
    {
      "cell_type": "code",
      "source": [
        "mod = SourceModule(kernel_code)\n",
        "matrixMul = mod.get_function(\"matrixMul\")\n",
        "\n",
        "N = 1024\n",
        "A_cpu = np.random.rand(N, N).astype(np.float32)\n",
        "B_cpu = np.random.rand(N, N).astype(np.float32)\n",
        "C_cpu = np.empty((N, N), np.float32)\n",
        "\n",
        "A_gpu = cuda.mem_alloc(A_cpu.nbytes)\n",
        "B_gpu = cuda.mem_alloc(B_cpu.nbytes)\n",
        "C_gpu = cuda.mem_alloc(C_cpu.nbytes)\n",
        "\n",
        "cuda.memcpy_htod(A_gpu, A_cpu)\n",
        "cuda.memcpy_htod(B_gpu, B_cpu)\n",
        "\n",
        "block_size = (32, 32, 1)\n",
        "grid_size = (int(N/32), int(N/32), 1)"
      ],
      "metadata": {
        "id": "SxnxTpL0pirY"
      },
      "execution_count": 20,
      "outputs": []
    },
    {
      "cell_type": "code",
      "source": [
        "start = time.time()\n",
        "matrixMul(A_gpu, B_gpu, C_gpu, np.int32(N), block=block_size, grid=grid_size)\n",
        "cuda.Context.synchronize()\n",
        "end = time.time()\n",
        "\n",
        "cuda.memcpy_dtoh(C_cpu, C_gpu)\n",
        "print(f\"Mnożenie macierzy na GPU (PyCUDA) trwało: {end - start :.5f} sekund.\")\n",
        "\n",
        "\n",
        "del A_gpu, B_gpu, C_gpu"
      ],
      "metadata": {
        "id": "Ru5A3eJKptMt",
        "colab": {
          "base_uri": "https://localhost:8080/"
        },
        "outputId": "7eb470ba-8030-46b2-c98c-c59b5f734df0"
      },
      "execution_count": 21,
      "outputs": [
        {
          "output_type": "stream",
          "name": "stdout",
          "text": [
            "Mnożenie macierzy na GPU (PyCUDA) trwało: 0.00682 sekund.\n"
          ]
        }
      ]
    }
  ]
}